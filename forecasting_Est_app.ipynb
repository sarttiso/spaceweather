{
 "cells": [
  {
   "cell_type": "markdown",
   "metadata": {},
   "source": [
    "# Interactive Est Forecasting"
   ]
  },
  {
   "cell_type": "markdown",
   "metadata": {},
   "source": [
    "This notebook provides an interactive interfaces for using trained models to view forecasts for available input data.\n",
    "\n",
    "**not compatible with Safari due to use of HTML date input field**"
   ]
  },
  {
   "cell_type": "code",
   "execution_count": 1,
   "metadata": {},
   "outputs": [],
   "source": [
    "import tensorflow as tf\n",
    "import tensorflow_probability as tfp\n",
    "tfd = tfp.distributions\n",
    "\n",
    "physical_devices = tf.config.list_physical_devices('GPU')\n",
    "tf.config.experimental.set_memory_growth(physical_devices[0], enable=True)\n",
    "\n",
    "import numpy as np\n",
    "from sklearn import preprocessing\n",
    "from scipy import stats\n",
    "\n",
    "import matplotlib.pyplot as plt\n",
    "import matplotlib.dates as mdates\n",
    "import matplotlib as mpl\n",
    "from matplotlib.ticker import FormatStrFormatter\n",
    "plt.style.use('seaborn-talk')\n",
    "mpl.rcParams['figure.figsize'] = [8, 8]\n",
    "\n",
    "import pandas as pd\n",
    "import tqdm\n",
    "\n",
    "from bdl_tensorflow import *\n",
    "from helper_functions import *\n",
    "import itertools\n",
    "\n",
    "import ipywidgets as widgets"
   ]
  },
  {
   "cell_type": "code",
   "execution_count": 18,
   "metadata": {},
   "outputs": [],
   "source": [
    "omni = pd.read_hdf('data/omni_hourly_alldata_smallfilled.h5')\n",
    "goes = pd.read_hdf('data/GOES_xrs_xhf_hourly_1986-2018.h5')\n",
    "flares = pd.read_hdf('data/GOES_flare_locations_hourly_1975-2016.h5')\n",
    "ext = pd.read_hdf('data/external_coefficients.h5')\n",
    "cme = pd.read_hdf('data/cme_hourly_complete.h5')\n",
    "p10s = pd.read_hdf('data/dst_est_ist.h5')\n",
    "\n",
    "dst = omni['Dst (nT)']\n",
    "\n",
    "# let's use the most relevant SW measurements from omni\n",
    "omni_use_cols = ['BX, nT (GSE, GSM)',\n",
    "                'BY, nT (GSM)',\n",
    "                'BZ, nT (GSM)',  \n",
    "                'SW Proton Density, N/cm^3',  \n",
    "                'SW Plasma Speed, km/s',  \n",
    "                'SW Plasma Temperature, K',\n",
    "                'SW Plasma flow long. angle',\n",
    "                'SW Plasma flow lat. angle',]\n",
    "\n",
    "# use all GOES data\n",
    "goes_use_cols = ['short channel',\n",
    "                'long channel']\n",
    "# goes_use_cols = ['Xhf short channel',\n",
    "#                 'Xhf long channel']\n",
    "\n",
    "# flare data to use\n",
    "flares_use_cols = ['lat', 'lon', 'intensity']\n",
    "\n",
    "# cme data to use\n",
    "cme_use_cols = ['Central PA', \n",
    "                'Width',\n",
    "                'Linear Speed',\n",
    "                '2nd order speed: initial',\n",
    "                 '2nd order speed: final',\n",
    "                 '2nd order speed: 20R',\n",
    "                 'Accel',\n",
    "                'Mass',\n",
    "                'Kinetic energy']\n",
    "\n",
    "# p10 terms to use, just est for now\n",
    "p10s_use_cols = ['est']\n",
    "\n",
    "# let's focus on first zonal coefficients\n",
    "ext_use_cols = ['q10']\n",
    "\n",
    "# form full dataframe\n",
    "data = pd.concat([omni[omni_use_cols], goes[goes_use_cols], p10s[p10s_use_cols], cme[cme_use_cols]], axis=1)\n"
   ]
  },
  {
   "cell_type": "code",
   "execution_count": 3,
   "metadata": {},
   "outputs": [],
   "source": [
    "in_cols = list(itertools.chain(goes_use_cols, cme_use_cols, omni_use_cols, p10s_use_cols))\n",
    "\n",
    "out_cols = p10s_use_cols\n",
    "\n",
    "data_in = data[in_cols].copy()\n",
    "data_out = data[out_cols].copy()\n",
    "\n",
    "input_dim = data_in.shape[1]\n",
    "output_dim = data_out.shape[1]\n",
    "\n",
    "ndat = data.shape[0]\n",
    "t = data.index"
   ]
  },
  {
   "cell_type": "code",
   "execution_count": 4,
   "metadata": {},
   "outputs": [],
   "source": [
    "# only run if using CME or x-ray data\n",
    "data_in['short channel'] = np.log10(data_in['short channel']+1e-8)\n",
    "data_in['long channel'] = np.log10(data_in['long channel']+1e-8)\n",
    "data_in['Mass'] = np.log10(data_in['Mass'] + 1e13)\n",
    "data_in['Kinetic energy'] = np.log10(data_in['Kinetic energy'] + 1e27)"
   ]
  },
  {
   "cell_type": "code",
   "execution_count": 5,
   "metadata": {},
   "outputs": [],
   "source": [
    "lahead_max = 6\n",
    "\n",
    "data_in_arr = data_in[0:-lahead_max].values.astype(np.float32)\n",
    "# data_out_arr = data_out[lahead:].values.astype(np.float32)\n",
    "\n",
    "t_in = t[0:-lahead_max]"
   ]
  },
  {
   "cell_type": "code",
   "execution_count": 6,
   "metadata": {},
   "outputs": [],
   "source": [
    "# normalize\n",
    "scaler_input = preprocessing.MinMaxScaler(feature_range=(0,1))\n",
    "data_in_scaled = scaler_input.fit_transform(data_in_arr)\n",
    "\n",
    "# reshape input data\n",
    "data_in_scaled = data_in_scaled.reshape(-1, 1, input_dim)"
   ]
  },
  {
   "cell_type": "code",
   "execution_count": 7,
   "metadata": {},
   "outputs": [],
   "source": [
    "lstm_dim_1 = 20\n",
    "lstm_dim_2 = 10\n",
    "lstm_dim_3 = 5\n",
    "lstm_dim_4 = 10\n",
    "\n",
    "dense_dim_1 = 5\n",
    "dense_dim_2 = 10\n",
    "dense_dim_3 = 5\n",
    "dense_dim_4 = 5"
   ]
  },
  {
   "cell_type": "code",
   "execution_count": 8,
   "metadata": {},
   "outputs": [],
   "source": [
    "models = []\n",
    "\n",
    "# gather all of the models necessary for 1-6 hour ahead forecasts\n",
    "for ii in range(6):\n",
    "    model = tf.keras.models.Sequential([\n",
    "        tf.keras.layers.LSTM(lstm_dim_1, return_sequences=True, input_shape=(1, input_dim)),\n",
    "        tf.keras.layers.LSTM(lstm_dim_2, return_sequences=False),\n",
    "        tf.keras.layers.Dense(dense_dim_2, \n",
    "                              activation='tanh'),\n",
    "        tf.keras.layers.Dense(2, \n",
    "                              kernel_initializer=tf.keras.initializers.Constant(0), \n",
    "                              bias_initializer=tf.keras.initializers.Constant([0, 20])),\n",
    "        tfp.layers.DistributionLambda(\n",
    "            lambda t: tfd.Normal(loc=t[..., 0:1], \n",
    "                                 scale=1e-3 + tf.math.softplus(1.0 * t[..., 1:])))\n",
    "    ])\n",
    "    model_name = 'Estout_XrayCMESWEst_Gaussian_mod_L20L10D10_t%d' % (ii+1)\n",
    "    model_weights_path = 'models/' + model_name + '/cp.ckpt'\n",
    "    model.load_weights(model_weights_path)\n",
    "    models.append(model)"
   ]
  },
  {
   "cell_type": "code",
   "execution_count": 9,
   "metadata": {},
   "outputs": [],
   "source": [
    "data_out_preds = []\n",
    "\n",
    "for ii in range(6):\n",
    "    post_model = models[ii](data_in_scaled)\n",
    "\n",
    "    # make distributions from learned parameters\n",
    "    data_out_preds.append(stats.norm(loc=post_model.loc.numpy(), scale=post_model.scale.numpy()))"
   ]
  },
  {
   "cell_type": "markdown",
   "metadata": {},
   "source": [
    "## Plot 1-6 hour forecast\n",
    "\n",
    "This widget plots for a selected date the forecasted Est from one to six hours ahead. The user can also specify how many hours of context to provide before the forecasted Est as well as which input data to plot alongside the forecast."
   ]
  },
  {
   "cell_type": "code",
   "execution_count": 91,
   "metadata": {},
   "outputs": [],
   "source": [
    "# IN:\n",
    "# t0: \n",
    "# dat_in_plot: which input data to plot, must match column names in the dataframe\n",
    "# context: number of hours of context (i.e. observed Est and selected inputs) before plotting forecast\n",
    "def plot_forecast_1_6(date, hours, dat_in_plot, context):\n",
    "    # origin time index\n",
    "    t0 = datetime.datetime(date.year, date.month, date.day) + datetime.timedelta(hours=hours)\n",
    "    idx = np.where(data.index == t0)[0]\n",
    "    if len(idx) == 0:\n",
    "        print('Requested date not found. Please select another.')\n",
    "        return\n",
    "    \n",
    "    # if we have selected a very young date\n",
    "    if idx < context\n",
    "    return len(idx)"
   ]
  },
  {
   "cell_type": "markdown",
   "metadata": {},
   "source": [
    "problem is now that we have to find the parts where all the data overlap, which will require reworking the data preprocessing code that generated batches."
   ]
  },
  {
   "cell_type": "code",
   "execution_count": 94,
   "metadata": {},
   "outputs": [
    {
     "data": {
      "application/vnd.jupyter.widget-view+json": {
       "model_id": "1f51ad08683c4ad8a27159510154eb21",
       "version_major": 2,
       "version_minor": 0
      },
      "text/plain": [
       "interactive(children=(DatePicker(value=None, description='Pick a Date'), IntText(value=0, description='Hour: '…"
      ]
     },
     "metadata": {},
     "output_type": "display_data"
    }
   ],
   "source": [
    "date_widget = widgets.DatePicker(\n",
    "    description='Pick a Date',\n",
    "    disabled=False\n",
    ")\n",
    "\n",
    "hours_widget = widgets.IntText(value=0, min=0, max=23, step=1, description='Hour: ')\n",
    "\n",
    "dat_in_widget = widgets.SelectMultiple(\n",
    "                    options=list(data),\n",
    "                    value=['SW Plasma Speed, km/s'],\n",
    "                    rows=20,\n",
    "                    description='Data to plot',\n",
    "                    disabled=False\n",
    ")\n",
    "\n",
    "context_widget = widgets.IntText(value=96, min=0, max=23, step=1, description='Hours before: ')\n",
    "\n",
    "w = widgets.interact_manual(plot_forecast_1_6,\n",
    "                            date=date_widget, \n",
    "                            dat_in_plot=dat_in_widget, \n",
    "                            hours=hours_widget,\n",
    "                            context=context_widget)"
   ]
  },
  {
   "cell_type": "markdown",
   "metadata": {},
   "source": [
    "## Plot k hour ahead forecast\n",
    "\n",
    "This widget produces output more similar to that from the figures in the manuscript, showing the k-hour ahead forecast for user select k in [1,6]. "
   ]
  },
  {
   "cell_type": "code",
   "execution_count": null,
   "metadata": {},
   "outputs": [],
   "source": []
  }
 ],
 "metadata": {
  "kernelspec": {
   "display_name": "Python 3",
   "language": "python",
   "name": "python3"
  },
  "language_info": {
   "codemirror_mode": {
    "name": "ipython",
    "version": 3
   },
   "file_extension": ".py",
   "mimetype": "text/x-python",
   "name": "python",
   "nbconvert_exporter": "python",
   "pygments_lexer": "ipython3",
   "version": "3.7.4"
  }
 },
 "nbformat": 4,
 "nbformat_minor": 4
}
